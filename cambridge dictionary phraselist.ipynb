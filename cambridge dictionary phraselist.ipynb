{
 "cells": [
  {
   "cell_type": "code",
   "execution_count": 130,
   "metadata": {},
   "outputs": [
    {
     "data": {
      "text/plain": [
       "11567"
      ]
     },
     "execution_count": 130,
     "metadata": {},
     "output_type": "execute_result"
    }
   ],
   "source": [
    "phrase=open('C:/Users/gartl/jupyter_mycode/data folder/cambridge_phrase.txt',encoding='utf-8').readlines() #put your address\n",
    "phrase=[i.strip().lower() for i in phrase]\n",
    "phrase=[re.sub(\"[\\#@;?:<>.!{}`+=~|]\",'',i) for i in phrase]\n",
    "phrase=list(set(phrase))\n",
    "len(phrase)"
   ]
  },
  {
   "cell_type": "code",
   "execution_count": 131,
   "metadata": {},
   "outputs": [
    {
     "name": "stdout",
     "output_type": "stream",
     "text": [
      "[\"what's up\"]\n",
      "['what’s eating someone']\n",
      "[\"it'll cost you\"]\n"
     ]
    }
   ],
   "source": [
    "print([i for i in phrase if i==\"what's up\"])\n",
    "print([i for i in phrase if i==\"what’s eating someone\"])\n",
    "print([i for i in phrase if i==\"it'll cost you\"])"
   ]
  },
  {
   "cell_type": "code",
   "execution_count": 132,
   "metadata": {},
   "outputs": [],
   "source": [
    "phrase=[re.sub('’',\"'\",i) for i in phrase]"
   ]
  },
  {
   "cell_type": "code",
   "execution_count": 133,
   "metadata": {},
   "outputs": [
    {
     "data": {
      "text/plain": [
       "[\"how's tricks\", \"how's life (treating you)\"]"
      ]
     },
     "execution_count": 133,
     "metadata": {},
     "output_type": "execute_result"
    }
   ],
   "source": [
    "[i for i in phrase if re.search(\"how's\", i)]"
   ]
  },
  {
   "cell_type": "code",
   "execution_count": 134,
   "metadata": {},
   "outputs": [],
   "source": [
    "def space_place(cleaned):\n",
    "    #exception=['what’s',\"how’s\",\"why’s\",\"where’s\",\"when’s\",\"who’s\",\"it’s\"]\n",
    "    #if cleaned in exception:\n",
    "    cleaned = re.sub(\"what's\",\"what 's\",cleaned)\n",
    "    cleaned = re.sub(\"how's\",\"how 's\",cleaned)\n",
    "    cleaned = re.sub(\"why's\",\"why 's\",cleaned)\n",
    "    cleaned = re.sub(\"where's\",\"where 's\",cleaned)\n",
    "    cleaned = re.sub(\"when's\",\"when 's\",cleaned)\n",
    "    cleaned = re.sub(\"who's\",\"who 's\",cleaned)\n",
    "    cleaned = re.sub(\"it's\",\"it 's\",cleaned)\n",
    "    cleaned = re.sub(\"can't\", \"ca n't\",cleaned)\n",
    "    cleaned = re.sub(\"won't\", \"wo n't\",cleaned)\n",
    "    cleaned = re.sub(\"it'll\", \"it 'll\",cleaned)\n",
    "    cleaned = re.sub(\"we'll\", \"we 'll\",cleaned)\n",
    "    cleaned = re.sub(\"i'll\", \"i 'll\",cleaned)\n",
    "    \n",
    "    return cleaned"
   ]
  },
  {
   "cell_type": "code",
   "execution_count": 135,
   "metadata": {},
   "outputs": [],
   "source": [
    "phrase=[space_place(i) for i in phrase]"
   ]
  },
  {
   "cell_type": "code",
   "execution_count": 136,
   "metadata": {},
   "outputs": [
    {
     "name": "stdout",
     "output_type": "stream",
     "text": [
      "[\"what 's eating someone\"]\n",
      "[\"i/we 'll (have to) see\", \"we 'll (soon) see about that\", \"i 'll/we 'll cross that bridge when i/we come/get to it\"]\n"
     ]
    }
   ],
   "source": [
    "print([i for i in phrase if i==\"what 's eating someone\"])\n",
    "print([i for i in phrase if re.search(\"we 'll\", i)])"
   ]
  },
  {
   "cell_type": "code",
   "execution_count": 137,
   "metadata": {},
   "outputs": [],
   "source": [
    "def bracket(x):\n",
    "    bracket_list=[]\n",
    "    if re.search('\\(',x)!=None:\n",
    "        string=x.split()\n",
    "        bracket=[]\n",
    "        for i in string:\n",
    "\n",
    "            if re.search('\\(',i)==None and re.search('\\)',i)==None:\n",
    "                bracket.append(i)\n",
    "        text=' '.join(bracket)\n",
    "        #print(text)\n",
    "        bracket_list.append(text)\n",
    "    return bracket_list\n",
    "                \n",
    "                   \n"
   ]
  },
  {
   "cell_type": "code",
   "execution_count": 138,
   "metadata": {},
   "outputs": [
    {
     "name": "stdout",
     "output_type": "stream",
     "text": [
      "1007\n"
     ]
    }
   ],
   "source": [
    "bracket=[bracket(i) for i in phrase]\n",
    "bracket=[i for i in bracket if len(i)>0]\n",
    "bracket=[j for i in bracket for j in i]\n",
    "bracket=[i for i in bracket if len(i.split())>1]\n",
    "print(len(bracket))"
   ]
  },
  {
   "cell_type": "code",
   "execution_count": 139,
   "metadata": {},
   "outputs": [
    {
     "data": {
      "text/plain": [
       "['sit around on your backside',\n",
       " 'blow sb/sth up',\n",
       " 'be as good as new',\n",
       " 'twist/turn the knife in the wound',\n",
       " \"think the sun shines out of sb's arse/backside\",\n",
       " 'wrapped up in secrecy',\n",
       " 'the chances are',\n",
       " 'have got sb by the short and curlies',\n",
       " 'start sth up',\n",
       " 'sit around somewhere']"
      ]
     },
     "execution_count": 139,
     "metadata": {},
     "output_type": "execute_result"
    }
   ],
   "source": [
    "original=[re.sub(\"[()]\",'',i) for i in phrase if re.search('\\(',i)]\n",
    "original[:10]"
   ]
  },
  {
   "cell_type": "code",
   "execution_count": 140,
   "metadata": {},
   "outputs": [],
   "source": [
    "from nltk.corpus import wordnet as wn\n",
    "originaled=[i.split() for i in original]\n",
    "lemma_original=[]\n",
    "for i in originaled:\n",
    "    lemma_original_sen=[]\n",
    "    for j in i:\n",
    "        lemma_original_sen.append(wn.morphy(j))\n",
    "    lemma_original.append(lemma_original_sen)\n",
    "for i,y in zip(lemma_original,originaled):\n",
    "    for j,x in enumerate(i):\n",
    "        if x==None:\n",
    "            i[j]=y[j] \n",
    "\n",
    "lemma_originals=[]\n",
    "for i in lemma_original:\n",
    "    lemma_originals.append(' '.join(i))\n",
    "lemma_originals\n",
    "\n",
    "different_bracket=[]\n",
    "for i,y in zip(lemma_originals,original):\n",
    "    if i!=y:\n",
    "        different_bracket.append(i)"
   ]
  },
  {
   "cell_type": "code",
   "execution_count": 141,
   "metadata": {},
   "outputs": [
    {
     "name": "stdout",
     "output_type": "stream",
     "text": [
      "156\n"
     ]
    }
   ],
   "source": [
    "print(len(different_bracket))"
   ]
  },
  {
   "cell_type": "code",
   "execution_count": 142,
   "metadata": {},
   "outputs": [
    {
     "name": "stdout",
     "output_type": "stream",
     "text": [
      "11567\n",
      "11567\n",
      "11566\n",
      "12306\n",
      "12460\n"
     ]
    }
   ],
   "source": [
    "print(len(phrase))\n",
    "phrase=[re.sub(\"[()]\",'',i) for i in phrase]\n",
    "print(len(phrase))\n",
    "print(len(set(phrase)))\n",
    "phrase=list(set(phrase+bracket))\n",
    "print(len(phrase))\n",
    "phrase=list(set(phrase+different_bracket))\n",
    "print(len(phrase))"
   ]
  },
  {
   "cell_type": "code",
   "execution_count": 143,
   "metadata": {},
   "outputs": [],
   "source": [
    "def slash(x):\n",
    "    #slashes=[]\n",
    "    slash_list=[]\n",
    "    if re.search('/',x)!=None:\n",
    "        string=x.split()\n",
    "        for i,x in enumerate(string):\n",
    "            if re.search('/',x)!=None:\n",
    "                slash=x.split('/')\n",
    "                #slashes.append(slash)\n",
    "                #string[i]=slash\n",
    "        #for i,x in enumerate(string):\n",
    "            #if re.search('/',x)!=None:\n",
    "                #print(i,x)\n",
    "                #for slash in slashes:\n",
    "                    #print(slash)\n",
    "                for w in slash:\n",
    "                    string[i]=w\n",
    "                    text=' '.join(string)\n",
    "                    slash_list.append(text)\n",
    "                    #print(text)\n",
    "    return slash_list\n",
    "                    \n",
    "slashed=[slash(i) for i in phrase]"
   ]
  },
  {
   "cell_type": "code",
   "execution_count": 144,
   "metadata": {},
   "outputs": [
    {
     "name": "stdout",
     "output_type": "stream",
     "text": [
      "253\n",
      "3957\n"
     ]
    }
   ],
   "source": [
    "slashed=[slash(i) for i in phrase]\n",
    "slashed=[i for i in slashed if len(i)>0]\n",
    "slashed=[j for i in slashed for j in i]\n",
    "anti_slashed=[i for i in slashed if re.search('/',i)!=None]\n",
    "slashed=[i for i in slashed if re.search('/',i)==None]\n",
    "anti_slashed=list(set(anti_slashed))\n",
    "slashed=list(set(slashed))\n",
    "print(len(anti_slashed))\n",
    "print(len(slashed))\n"
   ]
  },
  {
   "cell_type": "code",
   "execution_count": 145,
   "metadata": {},
   "outputs": [
    {
     "name": "stdout",
     "output_type": "stream",
     "text": [
      "12460\n",
      "1961\n",
      "10499\n",
      "14037\n"
     ]
    }
   ],
   "source": [
    "print(len(phrase))\n",
    "print(len([i for i in phrase if re.search('/',i)!=None]))\n",
    "phrase=[i for i in phrase if re.search('/',i)==None]\n",
    "print(len(phrase))\n",
    "phrase=list(set(phrase+slashed))\n",
    "print(len(phrase))"
   ]
  },
  {
   "cell_type": "code",
   "execution_count": 146,
   "metadata": {},
   "outputs": [
    {
     "name": "stdout",
     "output_type": "stream",
     "text": [
      "['make nonsense of sth', 'go to sth', 'eat up sth', 'rush into do sth', 'make a virtue of sth', 'be a question of doing sth', 'dine out on sth', 'dilate on sth', 'get your mind around sth', 'stand up for sth']\n",
      "['not take your eyes off sb', 'be in with sb', 'leave the field open for sb', 'get your hands on sb', 'jar on sb', 'have heard of sb', 'reach out to sb', 'think poorly of sb', 'believe in sb', 'stick with sb']\n",
      "1614\n",
      "732\n"
     ]
    }
   ],
   "source": [
    "something=[i for i in phrase if i.endswith('sth')]\n",
    "print(something[:10])\n",
    "somebody=[i for i in phrase if i.endswith('sb')]\n",
    "print(somebody[:10])\n",
    "print(len(something))\n",
    "print(len(somebody))"
   ]
  },
  {
   "cell_type": "code",
   "execution_count": 147,
   "metadata": {},
   "outputs": [
    {
     "name": "stdout",
     "output_type": "stream",
     "text": [
      "12423\n",
      "11691\n"
     ]
    }
   ],
   "source": [
    "phrase=[i for i in phrase if i not in something]\n",
    "print(len(phrase))\n",
    "phrase=[i for i in phrase if i not in somebody]\n",
    "print(len(phrase))"
   ]
  },
  {
   "cell_type": "code",
   "execution_count": 148,
   "metadata": {},
   "outputs": [],
   "source": [
    "phrase_it=[re.sub('(sth|something)','it',i) for i in phrase]\n",
    "phrase_this=[re.sub('(sth|something)','this',i) for i in phrase]\n",
    "phrase_that=[re.sub('(sth|something)','that',i) for i in phrase]\n",
    "phrase_these=[re.sub('(sth|something)','these',i) for i in phrase]\n",
    "phrase_those=[re.sub('(sth|something)','those',i) for i in phrase]\n",
    "phrase_him=[re.sub('(sb|someone)', 'him', i) for i in phrase]\n",
    "phrase_her=[re.sub('(sb|someone)', 'her', i) for i in phrase]\n",
    "phrase_them=[re.sub('(sb|someone)', 'them', i) for i in phrase]\n",
    "phrase_me=[re.sub('(sb|someone)', 'me', i) for i in phrase]\n",
    "phrase_you=[re.sub('(sb|someone)','you',i) for i in phrase]\n",
    "phrase_us=[re.sub('(sb|someone)','us',i) for i in phrase]"
   ]
  },
  {
   "cell_type": "code",
   "execution_count": 149,
   "metadata": {},
   "outputs": [
    {
     "data": {
      "text/plain": [
       "33087"
      ]
     },
     "execution_count": 149,
     "metadata": {},
     "output_type": "execute_result"
    }
   ],
   "source": [
    "phrases_list=phrase_him+phrase_her+phrase_them+phrase_me+phrase_you+phrase_us+phrase_it+phrase_this+phrase_that+phrase_these+phrase_those\n",
    "phrases_list=list(set(phrases_list))\n",
    "len(phrases_list)\n",
    "phrases_list=[i for i in phrases_list if len(i.split())!=1]\n",
    "phrases_list.append(\"ca n't be bothered\")\n",
    "phrases_list.append('up to')\n",
    "len(phrases_list)"
   ]
  },
  {
   "cell_type": "code",
   "execution_count": 150,
   "metadata": {},
   "outputs": [
    {
     "name": "stdout",
     "output_type": "stream",
     "text": [
      "['used to something']\n",
      "['used to doing something']\n",
      "[\"we 'll see about that\"]\n",
      "['get rid of him']\n",
      "[]\n"
     ]
    }
   ],
   "source": [
    "print([i for i in phrases_list if i==\"used to something\"])\n",
    "print([i for i in phrases_list if i==\"used to doing something\"])\n",
    "print([i for i in phrases_list if i==\"we 'll see about that\"])\n",
    "print([i for i in phrases_list if i==\"get rid of him\"])\n",
    "print([i for i in phrases_list if i==\"comic strip\"])\n",
    "\n",
    "#[i for i in phrases_list if re.search(\"wo n't\",i)]"
   ]
  },
  {
   "cell_type": "code",
   "execution_count": 151,
   "metadata": {},
   "outputs": [
    {
     "data": {
      "text/plain": [
       "1652"
      ]
     },
     "execution_count": 151,
     "metadata": {},
     "output_type": "execute_result"
    }
   ],
   "source": [
    "len([i for i in phrases_list if len(i.split())==6])"
   ]
  },
  {
   "cell_type": "code",
   "execution_count": 152,
   "metadata": {},
   "outputs": [
    {
     "data": {
      "text/plain": [
       "0.9582615528757518"
      ]
     },
     "execution_count": 152,
     "metadata": {},
     "output_type": "execute_result"
    }
   ],
   "source": [
    "len([i for i in phrases_list if len(i.split())<7])/len(phrases_list)"
   ]
  },
  {
   "cell_type": "code",
   "execution_count": 113,
   "metadata": {},
   "outputs": [],
   "source": [
    "phrases_list_file=open('phrases_list.txt','w',encoding='utf-8')\n",
    "for i in phrases_list:\n",
    "    phrases_list_file.write(i+'\\n')"
   ]
  }
 ],
 "metadata": {
  "kernelspec": {
   "display_name": "Python 3",
   "language": "python",
   "name": "python3"
  },
  "language_info": {
   "codemirror_mode": {
    "name": "ipython",
    "version": 3
   },
   "file_extension": ".py",
   "mimetype": "text/x-python",
   "name": "python",
   "nbconvert_exporter": "python",
   "pygments_lexer": "ipython3",
   "version": "3.6.5"
  }
 },
 "nbformat": 4,
 "nbformat_minor": 2
}
