{
 "cells": [
  {
   "cell_type": "code",
   "execution_count": null,
   "metadata": {},
   "outputs": [],
   "source": [
    "from selenium import webdriver\n",
    "path ='C:/Users/gartl/Downloads/chromedriver_win32/chromedriver.exe'\n",
    "driver=webdriver.Chrome(path) # you should check your chrome version"
   ]
  },
  {
   "cell_type": "code",
   "execution_count": null,
   "metadata": {},
   "outputs": [],
   "source": [
    "driver.get('https://dictionary.cambridge.org/ko/%EC%82%AC%EC%A0%84/%EC%98%81%EC%96%B4')"
   ]
  },
  {
   "cell_type": "code",
   "execution_count": null,
   "metadata": {},
   "outputs": [],
   "source": [
    "phrasea= driver.find_elements_by_css_selector('span.phrase.haf')# this code extract the phrases in main page of alphabet 'a' in index\n",
    "phrasea=[i.text for i in phrasea] #this extract text part of object"
   ]
  },
  {
   "cell_type": "code",
   "execution_count": null,
   "metadata": {},
   "outputs": [],
   "source": [
    "pa_star= driver.find_elements_by_css_selector('span.phrase.haf')#this code extract the phrases in sub page (ex. a ... a conflict of interest) \n",
    "phrasea_star=[i.text for i in pa_star]\n",
    "print(len(phrasea_star))\n",
    "phrasea+=phrasea_star\n",
    "print(len(phrasea))"
   ]
  },
  {
   "cell_type": "code",
   "execution_count": null,
   "metadata": {},
   "outputs": [],
   "source": [
    "phrasea=list(set(phrasea))"
   ]
  },
  {
   "cell_type": "code",
   "execution_count": null,
   "metadata": {},
   "outputs": [],
   "source": [
    "phrasea_file=open('phrasea.txt','w',encoding='utf-8')\n",
    "for i in phrasea:\n",
    "    phrasea_file.write(i+'\\n')"
   ]
  },
  {
   "cell_type": "code",
   "execution_count": null,
   "metadata": {},
   "outputs": [],
   "source": [
    "pb_star= driver.find_elements_by_css_selector('span.phrase.haf')\n",
    "phraseb_star=[i.text for i in pb_star]\n",
    "phraseb+=phraseb_star\n",
    "print(len(phraseb))"
   ]
  },
  {
   "cell_type": "code",
   "execution_count": null,
   "metadata": {},
   "outputs": [],
   "source": [
    "pc_star= driver.find_elements_by_css_selector('span.phrase.haf')\n",
    "phrasec_star=[i.text for i in pc_star]\n",
    "phrasec+=phrasec_star\n",
    "print(len(phrasec))"
   ]
  },
  {
   "cell_type": "code",
   "execution_count": null,
   "metadata": {},
   "outputs": [],
   "source": [
    "pd_star= driver.find_elements_by_css_selector('span.phrase.haf')\n",
    "phrased_star=[i.text for i in pd_star]\n",
    "phrased+=phrased_star\n",
    "print(len(phrased))"
   ]
  },
  {
   "cell_type": "code",
   "execution_count": null,
   "metadata": {},
   "outputs": [],
   "source": [
    "pe_star= driver.find_elements_by_css_selector('span.phrase.haf')\n",
    "phrasee_star=[i.text for i in pe_star]\n",
    "phrasee+=phrasee_star\n",
    "print(len(phrasee))"
   ]
  },
  {
   "cell_type": "code",
   "execution_count": null,
   "metadata": {},
   "outputs": [],
   "source": [
    "pf_star= driver.find_elements_by_css_selector('span.phrase.haf')\n",
    "phrasef_star=[i.text for i in pf_star]\n",
    "phrasef+=phrasef_star\n",
    "print(len(phrasef))"
   ]
  },
  {
   "cell_type": "code",
   "execution_count": null,
   "metadata": {},
   "outputs": [],
   "source": [
    "pg_star= driver.find_elements_by_css_selector('span.phrase.haf')\n",
    "phraseg_star=[i.text for i in pg_star]\n",
    "phraseg+=phraseg_star\n",
    "print(len(phraseg))"
   ]
  },
  {
   "cell_type": "code",
   "execution_count": null,
   "metadata": {},
   "outputs": [],
   "source": [
    "ph_star= driver.find_elements_by_css_selector('span.phrase.haf')\n",
    "phraseh_star=[i.text for i in ph_star]\n",
    "phraseh+=phraseh_star\n",
    "print(len(phraseh))"
   ]
  },
  {
   "cell_type": "code",
   "execution_count": null,
   "metadata": {},
   "outputs": [],
   "source": [
    "pi_star= driver.find_elements_by_css_selector('span.phrase.haf')\n",
    "phrasei_star=[i.text for i in pi_star]\n",
    "phrasebi+=phrasei_star\n",
    "print(len(phrasei))"
   ]
  },
  {
   "cell_type": "code",
   "execution_count": null,
   "metadata": {},
   "outputs": [],
   "source": [
    "pj_star= driver.find_elements_by_css_selector('span.phrase.haf')\n",
    "phrasej_star=[i.text for i in pj_star]\n",
    "phrasej+=phrasej_star\n",
    "print(len(phrasej))"
   ]
  },
  {
   "cell_type": "code",
   "execution_count": null,
   "metadata": {},
   "outputs": [],
   "source": [
    "pk_star= driver.find_elements_by_css_selector('span.phrase.haf')\n",
    "phrasek_star=[i.text for i in pk_star]\n",
    "phrasek+=phrasek_star\n",
    "print(len(phrasek))"
   ]
  },
  {
   "cell_type": "code",
   "execution_count": null,
   "metadata": {},
   "outputs": [],
   "source": [
    "pl_star= driver.find_elements_by_css_selector('span.phrase.haf')\n",
    "phrasel_star=[i.text for i in pl_star]\n",
    "phrasel+=phrasel_star\n",
    "print(len(phrasel))"
   ]
  },
  {
   "cell_type": "code",
   "execution_count": null,
   "metadata": {},
   "outputs": [],
   "source": [
    "pm_star= driver.find_elements_by_css_selector('span.phrase.haf')\n",
    "phrasem_star=[i.text for i in pm_star]\n",
    "phrasem+=phrasem_star\n",
    "print(len(phrasem))"
   ]
  },
  {
   "cell_type": "code",
   "execution_count": null,
   "metadata": {},
   "outputs": [],
   "source": [
    "pn_star= driver.find_elements_by_css_selector('span.phrase.haf')\n",
    "phrasen_star=[i.text for i in pn_star]\n",
    "phrasen+=phrasen_star\n",
    "print(len(phrasen))"
   ]
  },
  {
   "cell_type": "code",
   "execution_count": null,
   "metadata": {},
   "outputs": [],
   "source": [
    "po_star= driver.find_elements_by_css_selector('span.phrase.haf')\n",
    "phraseo_star=[i.text for i in po_star]\n",
    "phraseo+=phraseo_star\n",
    "print(len(phraseo))"
   ]
  },
  {
   "cell_type": "code",
   "execution_count": null,
   "metadata": {},
   "outputs": [],
   "source": [
    "pp_star= driver.find_elements_by_css_selector('span.phrase.haf')\n",
    "phrasep_star=[i.text for i in pp_star]\n",
    "phrasep+=phrasep_star\n",
    "print(len(phrasep))"
   ]
  },
  {
   "cell_type": "code",
   "execution_count": null,
   "metadata": {},
   "outputs": [],
   "source": [
    "pq_star= driver.find_elements_by_css_selector('span.phrase.haf')\n",
    "phraseq_star=[i.text for i in pq_star]\n",
    "phraseq+=phraseq_star\n",
    "print(len(phraseq))"
   ]
  },
  {
   "cell_type": "code",
   "execution_count": null,
   "metadata": {},
   "outputs": [],
   "source": [
    "pr_star= driver.find_elements_by_css_selector('span.phrase.haf')\n",
    "phraser_star=[i.text for i in pr_star]\n",
    "phraser+=phraser_star\n",
    "print(len(phraser))"
   ]
  },
  {
   "cell_type": "code",
   "execution_count": null,
   "metadata": {},
   "outputs": [],
   "source": [
    "ps_star= driver.find_elements_by_css_selector('span.phrase.haf')\n",
    "phrases_star=[i.text for i in ps_star]\n",
    "phrases+=phrases_star\n",
    "print(len(phrases))"
   ]
  },
  {
   "cell_type": "code",
   "execution_count": null,
   "metadata": {},
   "outputs": [],
   "source": [
    "pt_star= driver.find_elements_by_css_selector('span.phrase.haf')\n",
    "phraset_star=[i.text for i in pt_star]\n",
    "phraset+=phraset_star\n",
    "print(len(phraset))"
   ]
  },
  {
   "cell_type": "code",
   "execution_count": null,
   "metadata": {},
   "outputs": [],
   "source": [
    "pu_star= driver.find_elements_by_css_selector('span.phrase.haf')\n",
    "phraseu_star=[i.text for i in pu_star]\n",
    "phraseu+=phraseu_star\n",
    "print(len(phraseu))"
   ]
  },
  {
   "cell_type": "code",
   "execution_count": null,
   "metadata": {},
   "outputs": [],
   "source": [
    "pv_star= driver.find_elements_by_css_selector('span.phrase.haf')\n",
    "phrasev_star=[i.text for i in pv_star]\n",
    "phrasev+=phrasev_star\n",
    "print(len(phrasev))"
   ]
  },
  {
   "cell_type": "code",
   "execution_count": null,
   "metadata": {},
   "outputs": [],
   "source": [
    "pw_star= driver.find_elements_by_css_selector('span.phrase.haf')\n",
    "phrasew_star=[i.text for i in pw_star]\n",
    "phrasew+=phrasew_star\n",
    "print(len(phrasew))"
   ]
  },
  {
   "cell_type": "code",
   "execution_count": null,
   "metadata": {},
   "outputs": [],
   "source": [
    "py_star= driver.find_elements_by_css_selector('span.phrase.haf')\n",
    "phrasey_star=[i.text for i in py_star]\n",
    "phrasey+=phrasey_star\n",
    "print(len(phrasey))"
   ]
  },
  {
   "cell_type": "code",
   "execution_count": null,
   "metadata": {},
   "outputs": [],
   "source": [
    "pz_star= driver.find_elements_by_css_selector('span.phrase.haf')\n",
    "phrasez_star=[i.text for i in pz_star]\n",
    "phrasez+=phrasez_star\n",
    "print(len(phrasez))"
   ]
  },
  {
   "cell_type": "code",
   "execution_count": null,
   "metadata": {},
   "outputs": [],
   "source": [
    "phrase=phrasea+phraseb+phrasec+phrased+phrasee+phrasef+phraseg+phraseh+phrasei+phrasej+phrasek+phrasel+phrasem+phrasen+phraseo+phrasep+phraseq+phraser+phrases+phraset+phraseu+phrasev+phrasew+phrasey+phrasez"
   ]
  },
  {
   "cell_type": "code",
   "execution_count": null,
   "metadata": {},
   "outputs": [],
   "source": [
    "phrase_file=open('cambridge_phrase.txt','w',encoding='utf-8')\n",
    "for i in phrase:\n",
    "    phrase_file.write(i+'\\n')"
   ]
  }
 ],
 "metadata": {
  "kernelspec": {
   "display_name": "Python 3",
   "language": "python",
   "name": "python3"
  },
  "language_info": {
   "codemirror_mode": {
    "name": "ipython",
    "version": 3
   },
   "file_extension": ".py",
   "mimetype": "text/x-python",
   "name": "python",
   "nbconvert_exporter": "python",
   "pygments_lexer": "ipython3",
   "version": "3.6.5"
  }
 },
 "nbformat": 4,
 "nbformat_minor": 2
}
